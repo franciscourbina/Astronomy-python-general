{
  "nbformat": 4,
  "nbformat_minor": 0,
  "metadata": {
    "colab": {
      "provenance": [],
      "authorship_tag": "ABX9TyN1iJL+OXAPGfv+Z4bwlfNO",
      "include_colab_link": true
    },
    "kernelspec": {
      "name": "python3",
      "display_name": "Python 3"
    },
    "language_info": {
      "name": "python"
    }
  },
  "cells": [
    {
      "cell_type": "markdown",
      "metadata": {
        "id": "view-in-github",
        "colab_type": "text"
      },
      "source": [
        "<a href=\"https://colab.research.google.com/github/franciscourbina/Astronomy-python-general/blob/main/clases/Clase1.ipynb\" target=\"_parent\"><img src=\"https://colab.research.google.com/assets/colab-badge.svg\" alt=\"Open In Colab\"/></a>"
      ]
    },
    {
      "cell_type": "markdown",
      "source": [
        "# ¿Qué son los \"noteboooks\" de Google Colaboratory?\n",
        "Son documentos que permiten executar bloques de texto (utilizando Markdown) y código (en Python), además, Google permite compartir en tiempo real dichos archivos para favorecer el trabajo colaborativo.\n",
        "\n",
        "Markdown tiene $\\LaTeX$ incorporado, por lo que pueden escribir ecuaciones bknes como:\n",
        "\n",
        "$$\\left (-\\frac{\\hbar^2}{2m}\\nabla^2 + V(\\vec{x}) \\right)\\psi(\\vec{x},t) = i \\hbar \\frac{∂}{∂ t} \\psi(\\vec{x},t)  $$\n",
        "\n",
        "Estos notebooks se pueden subir directamente a Github!\n",
        "\n",
        "\n",
        "\n"
      ],
      "metadata": {
        "id": "gUC7glrqlTW0"
      }
    },
    {
      "cell_type": "markdown",
      "source": [
        "## **Herramientas fundamentales: Numpy**\n",
        "\n",
        "\n",
        "\n"
      ],
      "metadata": {
        "id": "bHUEO5FwsfhB"
      }
    },
    {
      "cell_type": "code",
      "source": [
        "# Ustedes ya conocen las listas de python, se pueden crear y manipular de forma sencilla.\n",
        "\n",
        "lista1 = [1,2,3,4]\n",
        "lista2 = [2]*4\n",
        "print(lista1, lista2)"
      ],
      "metadata": {
        "colab": {
          "base_uri": "https://localhost:8080/"
        },
        "id": "HsULPsWBsm7l",
        "outputId": "d6704dbb-891a-4289-975f-57383b8500dc"
      },
      "execution_count": 13,
      "outputs": [
        {
          "output_type": "stream",
          "name": "stdout",
          "text": [
            "[1, 2, 3, 4] [2, 2, 2, 2]\n"
          ]
        }
      ]
    },
    {
      "cell_type": "code",
      "source": [
        "# Y se puede acceder a sus elementos de forma sencilla con sus respectivos índices.\n",
        "print(lista1[0], lista1[-1], lista1[::2])"
      ],
      "metadata": {
        "colab": {
          "base_uri": "https://localhost:8080/"
        },
        "id": "nV1TXGDVs5qn",
        "outputId": "f6bf6078-468b-4ada-eb97-4d09cfb26054"
      },
      "execution_count": 7,
      "outputs": [
        {
          "output_type": "stream",
          "name": "stdout",
          "text": [
            "1 4 [1, 3]\n"
          ]
        }
      ]
    },
    {
      "cell_type": "code",
      "source": [
        "# Una forma muy útil de crearlas es utilizando las lists comprehension!\n",
        "# Por ejemplo, supongamos que queremos calcular el cuadrado de cada número en la lista1.\n",
        "# Una forma sería:\n",
        "\n",
        "lista3 = []\n",
        "for i in range(len(lista1)):\n",
        "  lista3.append(lista1[i]**2)"
      ],
      "metadata": {
        "id": "-0WhIBXbtPk4"
      },
      "execution_count": 16,
      "outputs": []
    },
    {
      "cell_type": "code",
      "source": [
        "lista4 = [x**2 for x in lista1]  # en una única línea!\n",
        "print(lista3, lista4)"
      ],
      "metadata": {
        "colab": {
          "base_uri": "https://localhost:8080/"
        },
        "id": "fLkoRPuwtr15",
        "outputId": "b2c83c21-d87c-45c4-b8cd-b1765b7927d4"
      },
      "execution_count": 17,
      "outputs": [
        {
          "output_type": "stream",
          "name": "stdout",
          "text": [
            "[1, 4, 9, 16] [1, 4, 9, 16]\n"
          ]
        }
      ]
    }
  ]
}